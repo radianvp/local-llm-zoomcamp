{
 "cells": [
  {
   "cell_type": "markdown",
   "id": "06cb5bf2",
   "metadata": {},
   "source": [
    "# Homework Submission"
   ]
  },
  {
   "cell_type": "markdown",
   "id": "73bf4293",
   "metadata": {},
   "source": [
    "```ascii\n",
    "    ┌─────────────┐           ┌─────────────┐\n",
    "    │             │           │             │\n",
    "    │  HOME       │ ────────► │  WORK       │\n",
    "    │             │           │             │\n",
    "    └─────────────┘           └─────────────┘\n",
    "```"
   ]
  },
  {
   "cell_type": "markdown",
   "id": "009d44b8",
   "metadata": {},
   "source": [
    "## Question 1. dlt Version\n",
    "\n",
    "---\n",
    "\n",
    "\n",
    "What's the version of dlt that you installed?\n",
    "- `Version: 1.12.3`"
   ]
  },
  {
   "cell_type": "code",
   "execution_count": 1,
   "id": "bce7070c",
   "metadata": {},
   "outputs": [
    {
     "name": "stdout",
     "output_type": "stream",
     "text": [
      "Name: dlt\n",
      "Version: 1.12.3\n",
      "Summary: dlt is an open-source python-first scalable data loading library that does not require any backend to run.\n",
      "Home-page: https://github.com/dlt-hub\n",
      "Author: \n",
      "Author-email: \"dltHub Inc.\" <services@dlthub.com>\n",
      "License-Expression: Apache-2.0\n",
      "Location: /home/radianv/anaconda3/envs/llm-zoomcamp/lib/python3.10/site-packages\n",
      "Requires: click, fsspec, gitpython, giturlparse, hexbytes, humanize, jsonpath-ng, orjson, packaging, pathvalidate, pendulum, pluggy, pytz, pyyaml, requests, requirements-parser, rich-argparse, semver, setuptools, simplejson, sqlglot, tenacity, tomlkit, typing-extensions, tzdata\n",
      "Required-by: cognee\n"
     ]
    }
   ],
   "source": [
    "!pip show dlt"
   ]
  },
  {
   "cell_type": "markdown",
   "id": "70eb0bb0",
   "metadata": {},
   "source": [
    "## Question 2. dlt pipeline\n",
    "\n",
    "---\n",
    "How many rows were inserted into the `zoomcamp_data` collection?\n",
    "\n",
    "Look for **\"Normalized data for the following tables:\"** in the trace output.\n",
    "\n",
    "- Normalized data for the following tables:\n",
    "    - zoomcamp_data: 948 row(s)\n",
    "    - _dlt_pipeline_state: 1 row(s)"
   ]
  },
  {
   "cell_type": "markdown",
   "id": "8a4b771a",
   "metadata": {},
   "source": [
    "### Step 1 - support functions"
   ]
  },
  {
   "cell_type": "code",
   "execution_count": 10,
   "id": "7617ea1e",
   "metadata": {},
   "outputs": [],
   "source": [
    "import dlt\n",
    "import requests\n",
    "import pandas as pd\n",
    "from datetime import datetime\n",
    "from qdrant_client import QdrantClient, models\n",
    "from dlt.destinations import qdrant"
   ]
  },
  {
   "cell_type": "code",
   "execution_count": 8,
   "id": "e378290c",
   "metadata": {},
   "outputs": [],
   "source": [
    "qd_client = QdrantClient(\"http://localhost:6333\") #connecting to local Qdrant instance\n",
    "EMBEDDING_DIMENSIONALITY = 512\n",
    "model_handle = \"BAAI/bge-small-en\""
   ]
  },
  {
   "cell_type": "code",
   "execution_count": 4,
   "id": "52307778",
   "metadata": {},
   "outputs": [],
   "source": [
    "@dlt.resource(write_disposition=\"replace\", name=\"zoomcamp_data\")\n",
    "def zoomcamp_data():\n",
    "    docs_url = 'https://github.com/alexeygrigorev/llm-rag-workshop/raw/main/notebooks/documents.json'\n",
    "    docs_response = requests.get(docs_url)\n",
    "    documents_raw = docs_response.json()\n",
    "\n",
    "    for course in documents_raw:\n",
    "        course_name = course['course']\n",
    "\n",
    "        for doc in course['documents']:\n",
    "            doc['course'] = course_name\n",
    "            yield doc"
   ]
  },
  {
   "cell_type": "code",
   "execution_count": null,
   "id": "1d9c7cf2",
   "metadata": {},
   "outputs": [],
   "source": [
    "qdrant_destination = qdrant(\n",
    "  qd_path=\"db.qdrant\", \n",
    ")"
   ]
  },
  {
   "cell_type": "code",
   "execution_count": 15,
   "id": "b9c226d3",
   "metadata": {},
   "outputs": [
    {
     "name": "stdout",
     "output_type": "stream",
     "text": [
      "Run started at 2025-07-07 04:00:38.631966+00:00 and COMPLETED in 8.47 seconds with 4 steps.\n",
      "Step extract COMPLETED in 0.76 seconds.\n",
      "\n",
      "Load package 1751860839.8473814 is EXTRACTED and NOT YET LOADED to the destination and contains no failed jobs\n",
      "\n",
      "Step normalize COMPLETED in 0.11 seconds.\n",
      "Normalized data for the following tables:\n",
      "- zoomcamp_data: 948 row(s)\n",
      "- _dlt_pipeline_state: 1 row(s)\n",
      "\n",
      "Load package 1751860839.8473814 is NORMALIZED and NOT YET LOADED to the destination and contains no failed jobs\n",
      "\n",
      "Step load COMPLETED in 6.40 seconds.\n",
      "Pipeline zoomcamp_pipeline load step completed in 6.38 seconds\n",
      "1 load package(s) were loaded to destination qdrant and into dataset zoomcamp_tagged_data\n",
      "The qdrant destination used /home/radianv/projects/data_talk_club/local-llm-zoomcamp/workshops/dlt/code/local/db.qdrant location to store data\n",
      "Load package 1751860839.8473814 is LOADED and contains no failed jobs\n",
      "\n",
      "Step run COMPLETED in 8.47 seconds.\n",
      "Pipeline zoomcamp_pipeline load step completed in 6.38 seconds\n",
      "1 load package(s) were loaded to destination qdrant and into dataset zoomcamp_tagged_data\n",
      "The qdrant destination used /home/radianv/projects/data_talk_club/local-llm-zoomcamp/workshops/dlt/code/local/db.qdrant location to store data\n",
      "Load package 1751860839.8473814 is LOADED and contains no failed jobs\n"
     ]
    }
   ],
   "source": [
    "pipeline = dlt.pipeline(\n",
    "    pipeline_name=\"zoomcamp_pipeline\",\n",
    "    destination=qdrant_destination,\n",
    "    dataset_name=\"zoomcamp_tagged_data\"\n",
    "\n",
    ")\n",
    "load_info = pipeline.run(zoomcamp_data())\n",
    "print(pipeline.last_trace)"
   ]
  },
  {
   "cell_type": "markdown",
   "id": "1ba1a5dd",
   "metadata": {},
   "source": [
    "## Question 3. Embeddings\n",
    "\n",
    "---\n",
    "\n",
    "When inserting the data, an embedding model was used. Which one?\n",
    "\n",
    "**Note**:You can find this out by inspecting the meta.json file created in the target folder.\n",
    "\n",
    "- `fast-bge-small-en`"
   ]
  },
  {
   "cell_type": "code",
   "execution_count": 34,
   "id": "a8e2f8e6",
   "metadata": {},
   "outputs": [
    {
     "name": "stdout",
     "output_type": "stream",
     "text": [
      "{\n",
      "    \"collections\": {\n",
      "        \"zoomcamp_tagged_data\": {\n",
      "            \"vectors\": {\n",
      "                \"fast-bge-small-en\": {\n",
      "                    \"size\": 384,\n",
      "                    \"distance\": \"Cosine\",\n",
      "                    \"hnsw_config\": null,\n",
      "                    \"quantization_config\": null,\n",
      "                    \"on_disk\": null,\n",
      "                    \"datatype\": null,\n",
      "                    \"multivector_config\": null\n",
      "                }\n",
      "            },\n",
      "            \"shard_number\": null,\n",
      "            \"sharding_method\": null,\n",
      "            \"replication_factor\": null,\n",
      "            \"write_consistency_factor\": null,\n",
      "            \"on_disk_payload\": null,\n",
      "            \"hnsw_config\": null,\n",
      "            \"wal_config\": null,\n",
      "            \"optimizers_config\": null,\n",
      "            \"init_from\": null,\n",
      "            \"quantization_config\": null,\n",
      "            \"sparse_vectors\": null,\n",
      "            \"strict_mode_config\": null\n",
      "        },\n",
      "        \"zoomcamp_tagged_data__dlt_pipeline_state\": {\n",
      "            \"vectors\": {\n",
      "                \"fast-bge-small-en\": {\n",
      "                    \"size\": 384,\n",
      "                    \"distance\": \"Cosine\",\n",
      "                    \"hnsw_config\": null,\n",
      "                    \"quantization_config\": null,\n",
      "                    \"on_disk\": null,\n",
      "                    \"datatype\": null,\n",
      "                    \"multivector_config\": null\n",
      "                }\n",
      "            },\n",
      "            \"shard_number\": null,\n",
      "            \"sharding_method\": null,\n",
      "            \"replication_factor\": null,\n",
      "            \"write_consistency_factor\": null,\n",
      "            \"on_disk_payload\": null,\n",
      "            \"hnsw_config\": null,\n",
      "            \"wal_config\": null,\n",
      "            \"optimizers_config\": null,\n",
      "            \"init_from\": null,\n",
      "            \"quantization_config\": null,\n",
      "            \"sparse_vectors\": null,\n",
      "            \"strict_mode_config\": null\n",
      "        },\n",
      "        \"zoomcamp_tagged_data__dlt_loads\": {\n",
      "            \"vectors\": {\n",
      "                \"fast-bge-small-en\": {\n",
      "                    \"size\": 384,\n",
      "                    \"distance\": \"Cosine\",\n",
      "                    \"hnsw_config\": null,\n",
      "                    \"quantization_config\": null,\n",
      "                    \"on_disk\": null,\n",
      "                    \"datatype\": null,\n",
      "                    \"multivector_config\": null\n",
      "                }\n",
      "            },\n",
      "            \"shard_number\": null,\n",
      "            \"sharding_method\": null,\n",
      "            \"replication_factor\": null,\n",
      "            \"write_consistency_factor\": null,\n",
      "            \"on_disk_payload\": null,\n",
      "            \"hnsw_config\": null,\n",
      "            \"wal_config\": null,\n",
      "            \"optimizers_config\": null,\n",
      "            \"init_from\": null,\n",
      "            \"quantization_config\": null,\n",
      "            \"sparse_vectors\": null,\n",
      "            \"strict_mode_config\": null\n",
      "        },\n",
      "        \"zoomcamp_tagged_data__dlt_version\": {\n",
      "            \"vectors\": {\n",
      "                \"fast-bge-small-en\": {\n",
      "                    \"size\": 384,\n",
      "                    \"distance\": \"Cosine\",\n",
      "                    \"hnsw_config\": null,\n",
      "                    \"quantization_config\": null,\n",
      "                    \"on_disk\": null,\n",
      "                    \"datatype\": null,\n",
      "                    \"multivector_config\": null\n",
      "                }\n",
      "            },\n",
      "            \"shard_number\": null,\n",
      "            \"sharding_method\": null,\n",
      "            \"replication_factor\": null,\n",
      "            \"write_consistency_factor\": null,\n",
      "            \"on_disk_payload\": null,\n",
      "            \"hnsw_config\": null,\n",
      "            \"wal_config\": null,\n",
      "            \"optimizers_config\": null,\n",
      "            \"init_from\": null,\n",
      "            \"quantization_config\": null,\n",
      "            \"sparse_vectors\": null,\n",
      "            \"strict_mode_config\": null\n",
      "        },\n",
      "        \"zoomcamp_tagged_data_zoomcamp_data\": {\n",
      "            \"vectors\": {\n",
      "                \"fast-bge-small-en\": {\n",
      "                    \"size\": 384,\n",
      "                    \"distance\": \"Cosine\",\n",
      "                    \"hnsw_config\": null,\n",
      "                    \"quantization_config\": null,\n",
      "                    \"on_disk\": null,\n",
      "                    \"datatype\": null,\n",
      "                    \"multivector_config\": null\n",
      "                }\n",
      "            },\n",
      "            \"shard_number\": null,\n",
      "            \"sharding_method\": null,\n",
      "            \"replication_factor\": null,\n",
      "            \"write_consistency_factor\": null,\n",
      "            \"on_disk_payload\": null,\n",
      "            \"hnsw_config\": null,\n",
      "            \"wal_config\": null,\n",
      "            \"optimizers_config\": null,\n",
      "            \"init_from\": null,\n",
      "            \"quantization_config\": null,\n",
      "            \"sparse_vectors\": null,\n",
      "            \"strict_mode_config\": null\n",
      "        }\n",
      "    },\n",
      "    \"aliases\": {}\n",
      "}\n"
     ]
    }
   ],
   "source": [
    "import json\n",
    "\n",
    "# Read and parse the JSON file\n",
    "with open(\"code/local/db.qdrant/meta.json\", \"r\") as f:\n",
    "    data = json.load(f)\n",
    "\n",
    "# Pretty-print the content\n",
    "print(json.dumps(data, indent=4))"
   ]
  }
 ],
 "metadata": {
  "kernelspec": {
   "display_name": "llm-zoomcamp",
   "language": "python",
   "name": "python3"
  },
  "language_info": {
   "codemirror_mode": {
    "name": "ipython",
    "version": 3
   },
   "file_extension": ".py",
   "mimetype": "text/x-python",
   "name": "python",
   "nbconvert_exporter": "python",
   "pygments_lexer": "ipython3",
   "version": "3.10.13"
  }
 },
 "nbformat": 4,
 "nbformat_minor": 5
}
