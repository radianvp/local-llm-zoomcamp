{
 "cells": [
  {
   "cell_type": "code",
   "execution_count": 24,
   "id": "5cacbecb",
   "metadata": {},
   "outputs": [],
   "source": [
    "import os\n",
    "import openai\n",
    "from tqdm.auto import tqdm"
   ]
  },
  {
   "cell_type": "code",
   "execution_count": 3,
   "id": "7db48985",
   "metadata": {},
   "outputs": [],
   "source": [
    "from openai import OpenAI"
   ]
  },
  {
   "cell_type": "code",
   "execution_count": 4,
   "id": "13807ad4",
   "metadata": {},
   "outputs": [],
   "source": [
    "client = OpenAI()"
   ]
  },
  {
   "cell_type": "code",
   "execution_count": 5,
   "id": "3a894be6",
   "metadata": {},
   "outputs": [],
   "source": [
    "response = client.chat.completions.create(\n",
    "model='gpt-4o-mini',\n",
    "messages=[{\"role\":\"user\", \"content\":\"is too late to joing the courcse?\"}]\n",
    ")"
   ]
  },
  {
   "cell_type": "code",
   "execution_count": 6,
   "id": "22c2ffca",
   "metadata": {},
   "outputs": [
    {
     "data": {
      "text/plain": [
       "\"Whether it is too late to join a course depends on several factors, such as the specific course, its start date, and the institution or platform offering it. If the course has already started, some programs may allow late enrollment, while others may not. I recommend checking the course's website or contacting the instructor or administration directly for the most accurate information regarding enrollment deadlines. If you provide more details about the course, I might be able to help you further!\""
      ]
     },
     "execution_count": 6,
     "metadata": {},
     "output_type": "execute_result"
    }
   ],
   "source": [
    "response.choices[0].message.content"
   ]
  },
  {
   "cell_type": "markdown",
   "id": "63f432ee",
   "metadata": {},
   "source": [
    "# Homework Secction"
   ]
  },
  {
   "cell_type": "markdown",
   "id": "d03d15da",
   "metadata": {},
   "source": [
    "## Q1. Run Elastic Search 8.17.6, and get the cluster information. If you run it on localhost, this is how you do it:"
   ]
  },
  {
   "cell_type": "markdown",
   "id": "03e52088",
   "metadata": {},
   "source": [
    "### What's the version.build_hash value?"
   ]
  },
  {
   "cell_type": "code",
   "execution_count": null,
   "id": "1cb64bce",
   "metadata": {},
   "outputs": [],
   "source": [
    "from elasticsearch import Elasticsearch\n",
    "\n",
    "es_client = Elasticsearch('htt://localhost:9200')\n"
   ]
  },
  {
   "cell_type": "markdown",
   "id": "90bb216c",
   "metadata": {},
   "source": []
  },
  {
   "cell_type": "code",
   "execution_count": 16,
   "id": "4aca50be",
   "metadata": {},
   "outputs": [
    {
     "data": {
      "text/plain": [
       "'42f05b9372a9a4a470db3b52817899b99a76ee73'"
      ]
     },
     "execution_count": 16,
     "metadata": {},
     "output_type": "execute_result"
    }
   ],
   "source": [
    "es_client.info()['version']['build_hash']"
   ]
  },
  {
   "cell_type": "markdown",
   "id": "c305c6d3",
   "metadata": {},
   "source": [
    "### Getting the data"
   ]
  },
  {
   "cell_type": "code",
   "execution_count": 17,
   "id": "20555895",
   "metadata": {},
   "outputs": [],
   "source": [
    "import requests \n",
    "\n",
    "docs_url = 'https://github.com/DataTalksClub/llm-zoomcamp/blob/main/01-intro/documents.json?raw=1'\n",
    "docs_response = requests.get(docs_url)\n",
    "documents_raw = docs_response.json()\n",
    "\n",
    "documents = []\n",
    "\n",
    "for course in documents_raw:\n",
    "    course_name = course['course']\n",
    "\n",
    "    for doc in course['documents']:\n",
    "        doc['course'] = course_name\n",
    "        documents.append(doc)"
   ]
  },
  {
   "cell_type": "code",
   "execution_count": 19,
   "id": "ca697e54",
   "metadata": {},
   "outputs": [
    {
     "data": {
      "text/plain": [
       "{'text': \"The purpose of this document is to capture frequently asked technical questions\\nThe exact day and hour of the course will be 15th Jan 2024 at 17h00. The course will start with the first  “Office Hours'' live.1\\nSubscribe to course public Google Calendar (it works from Desktop only).\\nRegister before the course starts using this link.\\nJoin the course Telegram channel with announcements.\\nDon’t forget to register in DataTalks.Club's Slack and join the channel.\",\n",
       " 'section': 'General course-related questions',\n",
       " 'question': 'Course - When will the course start?',\n",
       " 'course': 'data-engineering-zoomcamp'}"
      ]
     },
     "execution_count": 19,
     "metadata": {},
     "output_type": "execute_result"
    }
   ],
   "source": [
    "documents[0]"
   ]
  },
  {
   "cell_type": "markdown",
   "id": "0719d256",
   "metadata": {},
   "source": [
    "## Q2. Indexing the data"
   ]
  },
  {
   "cell_type": "markdown",
   "id": "41065769",
   "metadata": {},
   "source": [
    "## Q2. Indexing the data\n",
    "\n",
    "### Which function do you use for adding your data to elastic? \n",
    "The answer is  `index`"
   ]
  },
  {
   "cell_type": "code",
   "execution_count": 25,
   "id": "9b8ba310",
   "metadata": {},
   "outputs": [
    {
     "data": {
      "text/plain": [
       "ObjectApiResponse({'acknowledged': True, 'shards_acknowledged': True, 'index': 'course-questions'})"
      ]
     },
     "execution_count": 25,
     "metadata": {},
     "output_type": "execute_result"
    }
   ],
   "source": [
    "index_settings = {\n",
    "    \"settings\": {\n",
    "        \"number_of_shards\": 1,\n",
    "        \"number_of_replicas\": 0\n",
    "    },\n",
    "    \"mappings\": {\n",
    "        \"properties\": {\n",
    "            \"text\": {\"type\": \"text\"},\n",
    "            \"section\": {\"type\": \"text\"},\n",
    "            \"question\": {\"type\": \"text\"},\n",
    "            \"course\": {\"type\": \"keyword\"} \n",
    "        }\n",
    "    }\n",
    "}\n",
    "\n",
    "index_name = \"course-questions\"\n",
    "\n",
    "es_client.indices.create(index=index_name, body=index_settings)"
   ]
  },
  {
   "cell_type": "code",
   "execution_count": 26,
   "id": "1c8f2d73",
   "metadata": {},
   "outputs": [
    {
     "data": {
      "application/vnd.jupyter.widget-view+json": {
       "model_id": "b4f739911bf74244bbb711d4039cfc52",
       "version_major": 2,
       "version_minor": 0
      },
      "text/plain": [
       "  0%|          | 0/948 [00:00<?, ?it/s]"
      ]
     },
     "metadata": {},
     "output_type": "display_data"
    }
   ],
   "source": [
    "for doc in tqdm(documents):\n",
    "    es_client.index(index=index_name, document=doc)"
   ]
  },
  {
   "cell_type": "markdown",
   "id": "4e33cc0f",
   "metadata": {},
   "source": [
    "# Q3. Searching\n",
    "\n",
    "## query \"How do execute a command on a Kubernetes pod?\".\n",
    "\n",
    "### What's the score for the top ranking result?\n",
    "\n",
    "* The answer is  `'_score': 44.50556,`\n",
    "\n"
   ]
  },
  {
   "cell_type": "code",
   "execution_count": 48,
   "id": "fbbef020",
   "metadata": {},
   "outputs": [],
   "source": [
    "query = 'How do execute a command on a Kubernetes pod?'"
   ]
  },
  {
   "cell_type": "code",
   "execution_count": 50,
   "id": "51815ea3",
   "metadata": {},
   "outputs": [],
   "source": [
    "search_query = {\n",
    "        \"size\": 5,\n",
    "        \"query\": {\n",
    "            \"bool\": {\n",
    "                \"must\": {\n",
    "                    \"multi_match\": {\n",
    "                        \"query\": query,\n",
    "                        \"fields\": [\"question^4\", \"text\"],\n",
    "                        \"type\": \"best_fields\"\n",
    "                    }\n",
    "                }\n",
    "            }\n",
    "        }\n",
    "    }\n"
   ]
  },
  {
   "cell_type": "code",
   "execution_count": 51,
   "id": "6a47ca0c",
   "metadata": {},
   "outputs": [],
   "source": [
    "response = es_client.search(index=index_name, body=search_query)\n"
   ]
  },
  {
   "cell_type": "code",
   "execution_count": 52,
   "id": "de416c02",
   "metadata": {},
   "outputs": [
    {
     "data": {
      "text/plain": [
       "[{'_index': 'course-questions',\n",
       "  '_id': 'oiqTcJcBrJM5Tilwrsaf',\n",
       "  '_score': 44.50556,\n",
       "  '_source': {'text': 'Launch the container image in interactive mode and overriding the entrypoint, so that it starts a bash command.\\ndocker run -it --entrypoint bash <image>\\nIf the container is already running, execute a command in the specific container:\\ndocker ps (find the container-id)\\ndocker exec -it <container-id> bash\\n(Marcos MJD)',\n",
       "   'section': '5. Deploying Machine Learning Models',\n",
       "   'question': 'How do I debug a docker container?',\n",
       "   'course': 'machine-learning-zoomcamp'}},\n",
       " {'_index': 'course-questions',\n",
       "  '_id': 'MSqTcJcBrJM5Tilws8cn',\n",
       "  '_score': 35.433445,\n",
       "  '_source': {'text': 'Deploy and Access the Kubernetes Dashboard\\nLuke',\n",
       "   'section': '10. Kubernetes and TensorFlow Serving',\n",
       "   'question': 'Kubernetes-dashboard',\n",
       "   'course': 'machine-learning-zoomcamp'}},\n",
       " {'_index': 'course-questions',\n",
       "  '_id': 'wiqTcJcBrJM5Tilwr8aJ',\n",
       "  '_score': 33.70974,\n",
       "  '_source': {'text': 'You can copy files from your local machine into a Docker container using the docker cp command. Here\\'s how to do it:\\nIn the Dockerfile, you can provide the folder containing the files that you want to copy over. The basic syntax is as follows:\\nCOPY [\"src/predict.py\", \"models/xgb_model.bin\", \"./\"]\\t\\t\\t\\t\\t\\t\\t\\t\\t\\t\\tGopakumar Gopinathan',\n",
       "   'section': '5. Deploying Machine Learning Models',\n",
       "   'question': 'How do I copy files from a different folder into docker container’s working directory?',\n",
       "   'course': 'machine-learning-zoomcamp'}},\n",
       " {'_index': 'course-questions',\n",
       "  '_id': 'sSqTcJcBrJM5Tilwr8YP',\n",
       "  '_score': 33.2635,\n",
       "  '_source': {'text': 'Problem description:\\nI started a web-server in terminal (command window, powershell, etc.). How can I run another python script, which makes a request to this server?\\nSolution description:\\nJust open another terminal (command window, powershell, etc.) and run a python script.\\nAlena Kniazeva',\n",
       "   'section': '5. Deploying Machine Learning Models',\n",
       "   'question': 'How to run a script while a web-server is working?',\n",
       "   'course': 'machine-learning-zoomcamp'}},\n",
       " {'_index': 'course-questions',\n",
       "  '_id': 'hCqTcJcBrJM5Tilwrcan',\n",
       "  '_score': 32.589073,\n",
       "  '_source': {'text': \"Matplotlib has a cool method to annotate where you could provide an X,Y point and annotate with an arrow and text. For example this will show an arrow pointing to the x,y point optimal threshold.\\nplt.annotate(f'Optimal Threshold: {optimal_threshold:.2f}\\\\nOptimal F1 Score: {optimal_f1_score:.2f}',\\nxy=(optimal_threshold, optimal_f1_score),\\nxytext=(0.3, 0.5),\\ntextcoords='axes fraction',\\narrowprops=dict(facecolor='black', shrink=0.05))\\nQuinn Avila\",\n",
       "   'section': '4. Evaluation Metrics for Classification',\n",
       "   'question': 'How can I annotate a graph?',\n",
       "   'course': 'machine-learning-zoomcamp'}}]"
      ]
     },
     "execution_count": 52,
     "metadata": {},
     "output_type": "execute_result"
    }
   ],
   "source": [
    "response['hits']['hits']"
   ]
  },
  {
   "cell_type": "markdown",
   "id": "0be8ffde",
   "metadata": {},
   "source": [
    "# Q4. Filtering\n",
    "\n",
    "## Now ask a different question: \"How do copy a file to a Docker container?\".\n",
    "\n",
    "### Return 3 results. What's the 3rd question returned by the search engine?\n",
    "\n",
    "* The answer is  `How do I copy files from a different folder into docker container’s working directory?`"
   ]
  },
  {
   "cell_type": "code",
   "execution_count": 71,
   "id": "47309b50",
   "metadata": {},
   "outputs": [],
   "source": [
    "query2 = 'How do copy a file to a Docker container?'"
   ]
  },
  {
   "cell_type": "code",
   "execution_count": 72,
   "id": "d7cd225c",
   "metadata": {},
   "outputs": [],
   "source": [
    "search_query = {\n",
    "        \"size\": 5,\n",
    "        \"query\": {\n",
    "            \"bool\": {\n",
    "                \"must\": {\n",
    "                    \"multi_match\": {\n",
    "                        \"query\": query2,\n",
    "                        \"fields\": [\"question^3\", \"text\", \"section\"],\n",
    "                        \"type\": \"best_fields\"\n",
    "                    }\n",
    "                },\n",
    "                \"filter\": {\n",
    "                    \"term\": {\n",
    "                        \"course\": \"machine-learning-zoomcamp\"\n",
    "                    }\n",
    "                }\n",
    "            }\n",
    "        }\n",
    "    }"
   ]
  },
  {
   "cell_type": "code",
   "execution_count": 73,
   "id": "eaf38212",
   "metadata": {},
   "outputs": [],
   "source": [
    "response = es_client.search(index=index_name, body=search_query)"
   ]
  },
  {
   "cell_type": "code",
   "execution_count": 74,
   "id": "55ca84b1",
   "metadata": {},
   "outputs": [
    {
     "data": {
      "text/plain": [
       "[{'_index': 'course-questions',\n",
       "  '_id': 'oiqTcJcBrJM5Tilwrsaf',\n",
       "  '_score': 55.040073,\n",
       "  '_source': {'text': 'Launch the container image in interactive mode and overriding the entrypoint, so that it starts a bash command.\\ndocker run -it --entrypoint bash <image>\\nIf the container is already running, execute a command in the specific container:\\ndocker ps (find the container-id)\\ndocker exec -it <container-id> bash\\n(Marcos MJD)',\n",
       "   'section': '5. Deploying Machine Learning Models',\n",
       "   'question': 'How do I debug a docker container?',\n",
       "   'course': 'machine-learning-zoomcamp'}},\n",
       " {'_index': 'course-questions',\n",
       "  '_id': 'wSqTcJcBrJM5Tilwr8aC',\n",
       "  '_score': 50.016533,\n",
       "  '_source': {'text': \"You can copy files from your local machine into a Docker container using the docker cp command. Here's how to do it:\\nTo copy a file or directory from your local machine into a running Docker container, you can use the `docker cp command`. The basic syntax is as follows:\\ndocker cp /path/to/local/file_or_directory container_id:/path/in/container\\nHrithik Kumar Advani\",\n",
       "   'section': '5. Deploying Machine Learning Models',\n",
       "   'question': 'How do I copy files from my local machine to docker container?',\n",
       "   'course': 'machine-learning-zoomcamp'}},\n",
       " {'_index': 'course-questions',\n",
       "  '_id': 'wiqTcJcBrJM5Tilwr8aJ',\n",
       "  '_score': 44.859562,\n",
       "  '_source': {'text': 'You can copy files from your local machine into a Docker container using the docker cp command. Here\\'s how to do it:\\nIn the Dockerfile, you can provide the folder containing the files that you want to copy over. The basic syntax is as follows:\\nCOPY [\"src/predict.py\", \"models/xgb_model.bin\", \"./\"]\\t\\t\\t\\t\\t\\t\\t\\t\\t\\t\\tGopakumar Gopinathan',\n",
       "   'section': '5. Deploying Machine Learning Models',\n",
       "   'question': 'How do I copy files from a different folder into docker container’s working directory?',\n",
       "   'course': 'machine-learning-zoomcamp'}}]"
      ]
     },
     "execution_count": 74,
     "metadata": {},
     "output_type": "execute_result"
    }
   ],
   "source": [
    "response['hits']['hits'][:3]"
   ]
  },
  {
   "cell_type": "markdown",
   "id": "d44f87ea",
   "metadata": {},
   "source": [
    "# Q5. Building a prompt\n",
    "\n",
    "## What's the length of the resulting prompt? (use the len function)\n",
    "\n",
    "* The answer is  `?`"
   ]
  },
  {
   "cell_type": "code",
   "execution_count": 75,
   "id": "d4fbe2e0",
   "metadata": {},
   "outputs": [
    {
     "data": {
      "text/plain": [
       "'How do copy a file to a Docker container?'"
      ]
     },
     "execution_count": 75,
     "metadata": {},
     "output_type": "execute_result"
    }
   ],
   "source": [
    "query2"
   ]
  },
  {
   "cell_type": "code",
   "execution_count": null,
   "id": "e4ce7df2",
   "metadata": {},
   "outputs": [],
   "source": [
    "prompt_template = \"\"\"\n",
    "You're a course teaching assistant. Answer the QUESTION based on the CONTEXT from the FAQ database.\n",
    "Use only the facts from the CONTEXT when answering the QUESTION.\n",
    "\n",
    "QUESTION: {question}\n",
    "\n",
    "CONTEXT:\n",
    "{context}\n",
    "\"\"\".strip()"
   ]
  },
  {
   "cell_type": "code",
   "execution_count": 85,
   "id": "e140828f",
   "metadata": {},
   "outputs": [],
   "source": [
    "result_docs = []\n",
    "    \n",
    "for hit in response['hits']['hits']:\n",
    "   result_docs.append(hit['_source'])\n"
   ]
  },
  {
   "cell_type": "code",
   "execution_count": 79,
   "id": "634c6efd",
   "metadata": {},
   "outputs": [
    {
     "data": {
      "text/plain": [
       "5"
      ]
     },
     "execution_count": 79,
     "metadata": {},
     "output_type": "execute_result"
    }
   ],
   "source": [
    "len(result_docs)"
   ]
  },
  {
   "cell_type": "code",
   "execution_count": 99,
   "id": "ed354656",
   "metadata": {},
   "outputs": [],
   "source": [
    "context = \"\"\n",
    "\n",
    "for doc in result_docs:\n",
    "    context = context + f\"Q: {doc['question']}\\nA: {doc['text']}\\n\\n\""
   ]
  },
  {
   "cell_type": "code",
   "execution_count": 96,
   "id": "dbe1e3c5",
   "metadata": {},
   "outputs": [],
   "source": [
    "prompt = prompt_template.format(question=query2, context=context).strip()\n"
   ]
  },
  {
   "cell_type": "code",
   "execution_count": 97,
   "id": "622f840a",
   "metadata": {},
   "outputs": [
    {
     "data": {
      "text/plain": [
       "2154"
      ]
     },
     "execution_count": 97,
     "metadata": {},
     "output_type": "execute_result"
    }
   ],
   "source": [
    "len(prompt)"
   ]
  },
  {
   "cell_type": "code",
   "execution_count": 98,
   "id": "2ffc9223",
   "metadata": {},
   "outputs": [
    {
     "name": "stdout",
     "output_type": "stream",
     "text": [
      "You're a course teaching assitstant. Anwser the QUESTION base on the CONTEXT from the FAQ database.\n",
      "Use only the facts from the CONTEXT when answering the QUESTION\n",
      "\n",
      "QUESTION: How do copy a file to a Docker container?\n",
      "\n",
      "CONTEXT: \n",
      "Q: How do I debug a docker container?A: Launch the container image in interactive mode and overriding the entrypoint, so that it starts a bash command.\n",
      "docker run -it --entrypoint bash <image>\n",
      "If the container is already running, execute a command in the specific container:\n",
      "docker ps (find the container-id)\n",
      "docker exec -it <container-id> bash\n",
      "(Marcos MJD)\n",
      "\n",
      "Q: How do I copy files from my local machine to docker container?A: You can copy files from your local machine into a Docker container using the docker cp command. Here's how to do it:\n",
      "To copy a file or directory from your local machine into a running Docker container, you can use the `docker cp command`. The basic syntax is as follows:\n",
      "docker cp /path/to/local/file_or_directory container_id:/path/in/container\n",
      "Hrithik Kumar Advani\n",
      "\n",
      "Q: How do I copy files from a different folder into docker container’s working directory?A: You can copy files from your local machine into a Docker container using the docker cp command. Here's how to do it:\n",
      "In the Dockerfile, you can provide the folder containing the files that you want to copy over. The basic syntax is as follows:\n",
      "COPY [\"src/predict.py\", \"models/xgb_model.bin\", \"./\"]\t\t\t\t\t\t\t\t\t\t\tGopakumar Gopinathan\n",
      "\n",
      "Q: How to copy a dataframe without changing the original dataframe?A: Copy of a dataframe is made with X_copy = X.copy().\n",
      "This is called creating a deep copy.  Otherwise it will keep changing the original dataframe if used like this: X_copy = X.\n",
      "Any changes to X_copy will reflect back to X. This is not a real copy, instead it is a “view”.\n",
      "(Memoona Tahira)\n",
      "\n",
      "Q: Why do I need to provide a train.py file when I already have the notebook.ipynb file?A: Answer: The train.py file will be used by your peers to review your midterm project. It is for them to cross-check that your training process works on someone else’s system. It should also be included in the environment in conda or with pipenv.\n",
      "Odimegwu David\n"
     ]
    }
   ],
   "source": [
    "print(prompt)"
   ]
  }
 ],
 "metadata": {
  "kernelspec": {
   "display_name": "llm-zoomcamp",
   "language": "python",
   "name": "python3"
  },
  "language_info": {
   "codemirror_mode": {
    "name": "ipython",
    "version": 3
   },
   "file_extension": ".py",
   "mimetype": "text/x-python",
   "name": "python",
   "nbconvert_exporter": "python",
   "pygments_lexer": "ipython3",
   "version": "3.10.13"
  }
 },
 "nbformat": 4,
 "nbformat_minor": 5
}
