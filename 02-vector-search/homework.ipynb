{
 "cells": [
  {
   "cell_type": "markdown",
   "id": "8fbce81a",
   "metadata": {},
   "source": [
    "# Homework Submission"
   ]
  },
  {
   "cell_type": "markdown",
   "id": "313589b8",
   "metadata": {},
   "source": [
    "```ascii\n",
    "    ┌─────────────┐           ┌─────────────┐\n",
    "    │             │           │             │\n",
    "    │  HOME       │ ────────► │  WORK       │\n",
    "    │             │           │             │\n",
    "    └─────────────┘           └─────────────┘\n",
    "```"
   ]
  },
  {
   "cell_type": "markdown",
   "id": "5c63987a",
   "metadata": {},
   "source": [
    "## Q1. Embedding the query\n",
    "\n",
    "---\n",
    "\n",
    "Embed the query: `I just discovered the course. Can I join now?`. Use the `jinaai/jina-embeddings-v2-small-en` model.\n",
    "\n",
    "You should get a numpy array of size 512.\n",
    "\n",
    "What's the minimal value in this array?\n",
    "- `-0.11`"
   ]
  },
  {
   "cell_type": "code",
   "execution_count": 3,
   "id": "edb2241e",
   "metadata": {},
   "outputs": [],
   "source": [
    "model_handle = \"jinaai/jina-embeddings-v2-small-en\""
   ]
  },
  {
   "cell_type": "code",
   "execution_count": 8,
   "id": "dd584cbc",
   "metadata": {},
   "outputs": [],
   "source": [
    "from fastembed import TextEmbedding\n",
    "import numpy as np"
   ]
  },
  {
   "cell_type": "code",
   "execution_count": 27,
   "id": "bdec4fec",
   "metadata": {},
   "outputs": [
    {
     "name": "stdout",
     "output_type": "stream",
     "text": [
      "Numpy array\n"
     ]
    },
    {
     "data": {
      "text/plain": [
       "512"
      ]
     },
     "execution_count": 27,
     "metadata": {},
     "output_type": "execute_result"
    }
   ],
   "source": [
    "question = 'I just discovered the course. Can I join now?'\n",
    "\n",
    "model = TextEmbedding(model_name=model_handle)\n",
    "\n",
    "embedding_1 = list(model.embed(question))\n",
    "print('Numpy array')\n",
    "len(embedding_1[0])\n",
    "\n"
   ]
  },
  {
   "cell_type": "code",
   "execution_count": 28,
   "id": "492bce35",
   "metadata": {},
   "outputs": [
    {
     "name": "stdout",
     "output_type": "stream",
     "text": [
      "minimal value\n"
     ]
    },
    {
     "data": {
      "text/plain": [
       "np.float64(-0.11726373885183883)"
      ]
     },
     "execution_count": 28,
     "metadata": {},
     "output_type": "execute_result"
    }
   ],
   "source": [
    "print('minimal value')\n",
    "np.min(embedding_1)"
   ]
  },
  {
   "cell_type": "code",
   "execution_count": 29,
   "id": "904ab1e2",
   "metadata": {},
   "outputs": [
    {
     "data": {
      "text/plain": [
       "np.float64(1.0)"
      ]
     },
     "execution_count": 29,
     "metadata": {},
     "output_type": "execute_result"
    }
   ],
   "source": [
    "np.linalg.norm(embedding_1)"
   ]
  },
  {
   "cell_type": "markdown",
   "id": "9b138791",
   "metadata": {},
   "source": [
    "# Q2. Cosine similarity with another vector\n",
    "\n",
    "---\n",
    "\n",
    "Now let's embed this document:\n",
    "```\n",
    "- doc = 'Can I still join the course after the start date?'\n",
    "```\n",
    "\n",
    "What's the cosine similarity between the vector for the query and the vector for the document?\n",
    "- `0.9`"
   ]
  },
  {
   "cell_type": "code",
   "execution_count": 20,
   "id": "3266de0e",
   "metadata": {},
   "outputs": [],
   "source": [
    "doc = 'Can I still join the course after the start date?'"
   ]
  },
  {
   "cell_type": "code",
   "execution_count": 22,
   "id": "fe1a73eb",
   "metadata": {},
   "outputs": [],
   "source": [
    "from scipy.spatial.distance import cosine"
   ]
  },
  {
   "cell_type": "code",
   "execution_count": 32,
   "id": "ebc7f2ee",
   "metadata": {},
   "outputs": [],
   "source": [
    "embedding_2 = list(model.embed(doc))\n",
    "cosine_distance = cosine(embedding_1[0], embedding_2[0])"
   ]
  },
  {
   "cell_type": "code",
   "execution_count": 33,
   "id": "a952e58b",
   "metadata": {},
   "outputs": [
    {
     "data": {
      "text/plain": [
       "np.float64(0.0991471104325452)"
      ]
     },
     "execution_count": 33,
     "metadata": {},
     "output_type": "execute_result"
    }
   ],
   "source": [
    "cosine_distance"
   ]
  },
  {
   "cell_type": "code",
   "execution_count": 34,
   "id": "0340e042",
   "metadata": {},
   "outputs": [
    {
     "data": {
      "text/plain": [
       "np.float64(0.9008528895674548)"
      ]
     },
     "execution_count": 34,
     "metadata": {},
     "output_type": "execute_result"
    }
   ],
   "source": [
    "embedding_1[0].dot(embedding_2[0])"
   ]
  },
  {
   "cell_type": "markdown",
   "id": "ee54a67e",
   "metadata": {},
   "source": [
    "# Q3. Ranking by cosine\n",
    "\n",
    "---\n",
    "\n",
    "Compute the embeddings for the text field, and compute the cosine between the query vector and all the documents.\n",
    "\n",
    "What's the document index with the highest similarity? (Indexing starts from 0):\n",
    "- `1`"
   ]
  },
  {
   "cell_type": "code",
   "execution_count": 49,
   "id": "ff7abc62",
   "metadata": {},
   "outputs": [],
   "source": [
    "documents = [{'text': \"Yes, even if you don't register, you're still eligible to submit the homeworks.\\nBe aware, however, that there will be deadlines for turning in the final projects. So don't leave everything for the last minute.\",\n",
    "  'section': 'General course-related questions',\n",
    "  'question': 'Course - Can I still join the course after the start date?',\n",
    "  'course': 'data-engineering-zoomcamp'},\n",
    " {'text': 'Yes, we will keep all the materials after the course finishes, so you can follow the course at your own pace after it finishes.\\nYou can also continue looking at the homeworks and continue preparing for the next cohort. I guess you can also start working on your final capstone project.',\n",
    "  'section': 'General course-related questions',\n",
    "  'question': 'Course - Can I follow the course after it finishes?',\n",
    "  'course': 'data-engineering-zoomcamp'},\n",
    " {'text': \"The purpose of this document is to capture frequently asked technical questions\\nThe exact day and hour of the course will be 15th Jan 2024 at 17h00. The course will start with the first  “Office Hours'' live.1\\nSubscribe to course public Google Calendar (it works from Desktop only).\\nRegister before the course starts using this link.\\nJoin the course Telegram channel with announcements.\\nDon’t forget to register in DataTalks.Club's Slack and join the channel.\",\n",
    "  'section': 'General course-related questions',\n",
    "  'question': 'Course - When will the course start?',\n",
    "  'course': 'data-engineering-zoomcamp'},\n",
    " {'text': 'You can start by installing and setting up all the dependencies and requirements:\\nGoogle cloud account\\nGoogle Cloud SDK\\nPython 3 (installed with Anaconda)\\nTerraform\\nGit\\nLook over the prerequisites and syllabus to see if you are comfortable with these subjects.',\n",
    "  'section': 'General course-related questions',\n",
    "  'question': 'Course - What can I do before the course starts?',\n",
    "  'course': 'data-engineering-zoomcamp'},\n",
    " {'text': 'Star the repo! Share it with friends if you find it useful ❣️\\nCreate a PR if you see you can improve the text or the structure of the repository.',\n",
    "  'section': 'General course-related questions',\n",
    "  'question': 'How can we contribute to the course?',\n",
    "  'course': 'data-engineering-zoomcamp'}]"
   ]
  },
  {
   "cell_type": "code",
   "execution_count": 53,
   "id": "f045e4aa",
   "metadata": {},
   "outputs": [
    {
     "data": {
      "text/plain": [
       "\"Yes, even if you don't register, you're still eligible to submit the homeworks.\\nBe aware, however, that there will be deadlines for turning in the final projects. So don't leave everything for the last minute.\""
      ]
     },
     "execution_count": 53,
     "metadata": {},
     "output_type": "execute_result"
    }
   ],
   "source": [
    "documents[0]['text']"
   ]
  },
  {
   "cell_type": "code",
   "execution_count": null,
   "id": "fee9e184",
   "metadata": {},
   "outputs": [],
   "source": [
    "# Get list of text\n",
    "documents_text = []\n",
    "\n",
    "for text in documents:\n",
    "    documents_text.append(text['text'])\n",
    "\n"
   ]
  },
  {
   "cell_type": "code",
   "execution_count": 112,
   "id": "81a4a3db",
   "metadata": {},
   "outputs": [
    {
     "data": {
      "text/plain": [
       "[\"Yes, even if you don't register, you're still eligible to submit the homeworks.\\nBe aware, however, that there will be deadlines for turning in the final projects. So don't leave everything for the last minute.\",\n",
       " 'Yes, we will keep all the materials after the course finishes, so you can follow the course at your own pace after it finishes.\\nYou can also continue looking at the homeworks and continue preparing for the next cohort. I guess you can also start working on your final capstone project.',\n",
       " \"The purpose of this document is to capture frequently asked technical questions\\nThe exact day and hour of the course will be 15th Jan 2024 at 17h00. The course will start with the first  “Office Hours'' live.1\\nSubscribe to course public Google Calendar (it works from Desktop only).\\nRegister before the course starts using this link.\\nJoin the course Telegram channel with announcements.\\nDon’t forget to register in DataTalks.Club's Slack and join the channel.\",\n",
       " 'You can start by installing and setting up all the dependencies and requirements:\\nGoogle cloud account\\nGoogle Cloud SDK\\nPython 3 (installed with Anaconda)\\nTerraform\\nGit\\nLook over the prerequisites and syllabus to see if you are comfortable with these subjects.',\n",
       " 'Star the repo! Share it with friends if you find it useful ❣️\\nCreate a PR if you see you can improve the text or the structure of the repository.']"
      ]
     },
     "execution_count": 112,
     "metadata": {},
     "output_type": "execute_result"
    }
   ],
   "source": [
    "documents_text"
   ]
  },
  {
   "cell_type": "code",
   "execution_count": 35,
   "id": "cd29b4d7",
   "metadata": {},
   "outputs": [],
   "source": [
    "from numpy.linalg import norm"
   ]
  },
  {
   "cell_type": "code",
   "execution_count": null,
   "id": "a4a05d18",
   "metadata": {},
   "outputs": [],
   "source": [
    "#Just to ideas to calculate cosine similarity\n",
    "def cosine_similarity(a, b):\n",
    "    return np.dot(a, b) / (np.linalg.norm(a) * np.linalg.norm(b))\n",
    "\n",
    "cos_sim = lambda a, b: np.dot(a, b) / (np.linalg.norm(a) * np.linalg.norm(b))"
   ]
  },
  {
   "cell_type": "code",
   "execution_count": null,
   "id": "f1545bc2",
   "metadata": {},
   "outputs": [],
   "source": [
    "#funtion to embed all list of text, to get all vectors from embbeding model\n",
    "def embed_all_texts(texts, model):\n",
    "    embeddings_gen = model.embed(texts)\n",
    "    embeddings = list(embeddings_gen)\n",
    "    embeddings_np = [np.array(embed) for embed in embeddings]\n",
    "    return embeddings_np\n"
   ]
  },
  {
   "cell_type": "code",
   "execution_count": null,
   "id": "55c3bfc0",
   "metadata": {},
   "outputs": [],
   "source": [
    "#apply the function to get docuemnts vectors\n",
    "documents_vectors = embed_all_texts(documents_text, model)"
   ]
  },
  {
   "cell_type": "code",
   "execution_count": 128,
   "id": "882954a0",
   "metadata": {},
   "outputs": [
    {
     "data": {
      "text/plain": [
       "512"
      ]
     },
     "execution_count": 128,
     "metadata": {},
     "output_type": "execute_result"
    }
   ],
   "source": [
    "#Cheking numpy array of size 512 of one vector from matrix of vectors\n",
    "len(documents_vectors[0])"
   ]
  },
  {
   "cell_type": "code",
   "execution_count": 133,
   "id": "6d254aea",
   "metadata": {},
   "outputs": [],
   "source": [
    "#embed doc from question2\n",
    "embeddings_1 = np.array(list(model.embed(doc))[0])\n"
   ]
  },
  {
   "cell_type": "code",
   "execution_count": 134,
   "id": "7f591b97",
   "metadata": {},
   "outputs": [
    {
     "data": {
      "text/plain": [
       "512"
      ]
     },
     "execution_count": 134,
     "metadata": {},
     "output_type": "execute_result"
    }
   ],
   "source": [
    "#Cheking numpy array of size 512 of single doc\n",
    "len(embeddings_1)"
   ]
  },
  {
   "cell_type": "code",
   "execution_count": 140,
   "id": "0238d60b",
   "metadata": {},
   "outputs": [
    {
     "name": "stdout",
     "output_type": "stream",
     "text": [
      "0.8106057216700708\n"
     ]
    }
   ],
   "source": [
    "#validating cosine similarity of two single vectors\n",
    "print(cosine_similarity(embeddings_1, documents_vectors[0]))"
   ]
  },
  {
   "cell_type": "code",
   "execution_count": 141,
   "id": "1d936e46",
   "metadata": {},
   "outputs": [],
   "source": [
    "# Compute similarities from embeddings_1 (single vector) to  each documents_vectors(all vectors)\n",
    "similarities = [cosine_similarity(embeddings_1, doc) for doc in documents_vectors]\n",
    "\n",
    "# Get index with highest similarity\n",
    "best_index = int(np.argmax(similarities))"
   ]
  },
  {
   "cell_type": "code",
   "execution_count": 142,
   "id": "211c7a26",
   "metadata": {},
   "outputs": [
    {
     "data": {
      "text/plain": [
       "1"
      ]
     },
     "execution_count": 142,
     "metadata": {},
     "output_type": "execute_result"
    }
   ],
   "source": [
    "best_index"
   ]
  },
  {
   "cell_type": "code",
   "execution_count": 145,
   "id": "725bd591",
   "metadata": {},
   "outputs": [
    {
     "name": "stdout",
     "output_type": "stream",
     "text": [
      "Index 0: 0.8106057216700708\n",
      "Index 1: 0.8498906698471509\n",
      "Index 2: 0.7991335457966962\n",
      "Index 3: 0.6813047116438659\n",
      "Index 4: 0.6739288060941504\n"
     ]
    }
   ],
   "source": [
    "# Printing the index and corresponding vector for all vectors to valida highest (if 1 ist)\n",
    "for index, vector in enumerate(similarities):\n",
    "    print(f\"Index {index}: {vector}\")\n"
   ]
  },
  {
   "cell_type": "markdown",
   "id": "7cdfd8f8",
   "metadata": {},
   "source": [
    "# Q4. Ranking by cosine, version two\n",
    "---\n",
    "Now let's calculate a new field, which is a concatenation of question and text:\n",
    "\n",
    "```\n",
    "full_text = doc['question'] + ' ' + doc['text']\n",
    "\n",
    "```\n",
    "\n",
    "Embed this field and compute the cosine between it and the query vector. What's the highest scoring document?\n",
    "- `1`\n",
    "\n",
    "**Note**: my interpretation about it, the cosine is the same because the query is the same."
   ]
  },
  {
   "cell_type": "code",
   "execution_count": 152,
   "id": "1ec00ece",
   "metadata": {},
   "outputs": [
    {
     "data": {
      "text/plain": [
       "[{'text': \"Yes, even if you don't register, you're still eligible to submit the homeworks.\\nBe aware, however, that there will be deadlines for turning in the final projects. So don't leave everything for the last minute.\",\n",
       "  'section': 'General course-related questions',\n",
       "  'question': 'Course - Can I still join the course after the start date?',\n",
       "  'course': 'data-engineering-zoomcamp'},\n",
       " {'text': 'Yes, we will keep all the materials after the course finishes, so you can follow the course at your own pace after it finishes.\\nYou can also continue looking at the homeworks and continue preparing for the next cohort. I guess you can also start working on your final capstone project.',\n",
       "  'section': 'General course-related questions',\n",
       "  'question': 'Course - Can I follow the course after it finishes?',\n",
       "  'course': 'data-engineering-zoomcamp'},\n",
       " {'text': \"The purpose of this document is to capture frequently asked technical questions\\nThe exact day and hour of the course will be 15th Jan 2024 at 17h00. The course will start with the first  “Office Hours'' live.1\\nSubscribe to course public Google Calendar (it works from Desktop only).\\nRegister before the course starts using this link.\\nJoin the course Telegram channel with announcements.\\nDon’t forget to register in DataTalks.Club's Slack and join the channel.\",\n",
       "  'section': 'General course-related questions',\n",
       "  'question': 'Course - When will the course start?',\n",
       "  'course': 'data-engineering-zoomcamp'},\n",
       " {'text': 'You can start by installing and setting up all the dependencies and requirements:\\nGoogle cloud account\\nGoogle Cloud SDK\\nPython 3 (installed with Anaconda)\\nTerraform\\nGit\\nLook over the prerequisites and syllabus to see if you are comfortable with these subjects.',\n",
       "  'section': 'General course-related questions',\n",
       "  'question': 'Course - What can I do before the course starts?',\n",
       "  'course': 'data-engineering-zoomcamp'},\n",
       " {'text': 'Star the repo! Share it with friends if you find it useful ❣️\\nCreate a PR if you see you can improve the text or the structure of the repository.',\n",
       "  'section': 'General course-related questions',\n",
       "  'question': 'How can we contribute to the course?',\n",
       "  'course': 'data-engineering-zoomcamp'}]"
      ]
     },
     "execution_count": 152,
     "metadata": {},
     "output_type": "execute_result"
    }
   ],
   "source": [
    "documents"
   ]
  },
  {
   "cell_type": "code",
   "execution_count": 149,
   "id": "2a226385",
   "metadata": {},
   "outputs": [],
   "source": [
    "full_text = []\n",
    "\n",
    "for full in documents:\n",
    "    full_text.append(full['question'] + ' ' +full['text'])"
   ]
  },
  {
   "cell_type": "code",
   "execution_count": 154,
   "id": "ddb90f00",
   "metadata": {},
   "outputs": [
    {
     "data": {
      "text/plain": [
       "[\"Course - Can I still join the course after the start date? Yes, even if you don't register, you're still eligible to submit the homeworks.\\nBe aware, however, that there will be deadlines for turning in the final projects. So don't leave everything for the last minute.\",\n",
       " 'Course - Can I follow the course after it finishes? Yes, we will keep all the materials after the course finishes, so you can follow the course at your own pace after it finishes.\\nYou can also continue looking at the homeworks and continue preparing for the next cohort. I guess you can also start working on your final capstone project.',\n",
       " \"Course - When will the course start? The purpose of this document is to capture frequently asked technical questions\\nThe exact day and hour of the course will be 15th Jan 2024 at 17h00. The course will start with the first  “Office Hours'' live.1\\nSubscribe to course public Google Calendar (it works from Desktop only).\\nRegister before the course starts using this link.\\nJoin the course Telegram channel with announcements.\\nDon’t forget to register in DataTalks.Club's Slack and join the channel.\",\n",
       " 'Course - What can I do before the course starts? You can start by installing and setting up all the dependencies and requirements:\\nGoogle cloud account\\nGoogle Cloud SDK\\nPython 3 (installed with Anaconda)\\nTerraform\\nGit\\nLook over the prerequisites and syllabus to see if you are comfortable with these subjects.',\n",
       " 'How can we contribute to the course? Star the repo! Share it with friends if you find it useful ❣️\\nCreate a PR if you see you can improve the text or the structure of the repository.']"
      ]
     },
     "execution_count": 154,
     "metadata": {},
     "output_type": "execute_result"
    }
   ],
   "source": [
    "full_text"
   ]
  },
  {
   "cell_type": "code",
   "execution_count": 155,
   "id": "2202c07f",
   "metadata": {},
   "outputs": [],
   "source": [
    "#apply the function to get docuemnts vectors\n",
    "full_vectors = embed_all_texts(documents_text, model)"
   ]
  },
  {
   "cell_type": "code",
   "execution_count": 159,
   "id": "0001476d",
   "metadata": {},
   "outputs": [],
   "source": [
    "# Compute similarities from embeddings_1 (single vector) to  each full_vectors(all vectors)\n",
    "similarities = [cosine_similarity(embeddings_1, doc) for doc in full_vectors]\n",
    "\n",
    "# Get index with highest similarity\n",
    "best_index = int(np.argmax(similarities))"
   ]
  },
  {
   "cell_type": "code",
   "execution_count": 158,
   "id": "7f34f896",
   "metadata": {},
   "outputs": [
    {
     "data": {
      "text/plain": [
       "1"
      ]
     },
     "execution_count": 158,
     "metadata": {},
     "output_type": "execute_result"
    }
   ],
   "source": [
    "best_index"
   ]
  },
  {
   "cell_type": "markdown",
   "id": "7ff49d4a",
   "metadata": {},
   "source": [
    "# Q5. Selecting the embedding model\n",
    "\n",
    "---\n",
    "\n",
    "Now let's select a smaller embedding model. What's the smallest dimensionality for models in fastembed?\n",
    "- `384`"
   ]
  },
  {
   "cell_type": "code",
   "execution_count": 161,
   "id": "0917b79d",
   "metadata": {},
   "outputs": [
    {
     "name": "stdout",
     "output_type": "stream",
     "text": [
      "{\n",
      "  \"model\": \"BAAI/bge-small-en\",\n",
      "  \"sources\": {\n",
      "    \"hf\": \"Qdrant/bge-small-en\",\n",
      "    \"url\": \"https://storage.googleapis.com/qdrant-fastembed/BAAI-bge-small-en.tar.gz\",\n",
      "    \"_deprecated_tar_struct\": true\n",
      "  },\n",
      "  \"model_file\": \"model_optimized.onnx\",\n",
      "  \"description\": \"Text embeddings, Unimodal (text), English, 512 input tokens truncation, Prefixes for queries/documents: necessary, 2023 year.\",\n",
      "  \"license\": \"mit\",\n",
      "  \"size_in_GB\": 0.13,\n",
      "  \"additional_files\": [],\n",
      "  \"dim\": 384,\n",
      "  \"tasks\": {}\n",
      "}\n"
     ]
    }
   ],
   "source": [
    "import json\n",
    "\n",
    "EMBEDDING_DIMENSIONALITY = []\n",
    "\n",
    "for model in TextEmbedding.list_supported_models():\n",
    "    if model[\"model\"] == \"BAAI/bge-small-en\":\n",
    "        EMBEDDING_DIMENSIONALITY.append(model[\"dim\"] )\n",
    "        print(json.dumps(model, indent=2))"
   ]
  },
  {
   "cell_type": "code",
   "execution_count": 162,
   "id": "1f3334c9",
   "metadata": {},
   "outputs": [
    {
     "data": {
      "text/plain": [
       "[384]"
      ]
     },
     "execution_count": 162,
     "metadata": {},
     "output_type": "execute_result"
    }
   ],
   "source": [
    "EMBEDDING_DIMENSIONALITY"
   ]
  },
  {
   "cell_type": "markdown",
   "id": "1ee3bffc",
   "metadata": {},
   "source": [
    "# Q6. Indexing with qdrant (2 points)\n",
    "\n",
    "---\n",
    "\n",
    "We will select only FAQ records from our ml zoomcamp: -->\n",
    "\n",
    "What's the highest score in the results? (The score for the first returned record):\n",
    "- `0.8703172`"
   ]
  },
  {
   "cell_type": "code",
   "execution_count": 173,
   "id": "54e9f29f",
   "metadata": {},
   "outputs": [],
   "source": [
    "import requests \n",
    "\n",
    "docs_url = 'https://github.com/alexeygrigorev/llm-rag-workshop/raw/main/notebooks/documents.json'\n",
    "docs_response = requests.get(docs_url)\n",
    "documents_raw = docs_response.json()\n",
    "\n",
    "\n",
    "documents = []\n",
    "\n",
    "for course in documents_raw:\n",
    "    course_name = course['course']\n",
    "    if course_name != 'machine-learning-zoomcamp':\n",
    "        continue\n",
    "\n",
    "    for doc in course['documents']:\n",
    "        doc['course'] = course_name\n",
    "        documents.append(doc)"
   ]
  },
  {
   "cell_type": "code",
   "execution_count": 188,
   "id": "d0cbab96",
   "metadata": {},
   "outputs": [
    {
     "data": {
      "text/plain": [
       "375"
      ]
     },
     "execution_count": 188,
     "metadata": {},
     "output_type": "execute_result"
    }
   ],
   "source": [
    "len(documents)"
   ]
  },
  {
   "cell_type": "code",
   "execution_count": 181,
   "id": "870786c4",
   "metadata": {},
   "outputs": [],
   "source": [
    "from qdrant_client import QdrantClient, models"
   ]
  },
  {
   "cell_type": "code",
   "execution_count": 184,
   "id": "505fcb23",
   "metadata": {},
   "outputs": [],
   "source": [
    "qd_client = QdrantClient(\"http://localhost:6333\") #connecting to local Qdrant instance\n",
    "EMBEDDING_DIMENSIONALITY = 384\n",
    "model_handle = \"BAAI/bge-small-en\""
   ]
  },
  {
   "cell_type": "code",
   "execution_count": 185,
   "id": "c409227a",
   "metadata": {},
   "outputs": [
    {
     "data": {
      "text/plain": [
       "True"
      ]
     },
     "execution_count": 185,
     "metadata": {},
     "output_type": "execute_result"
    }
   ],
   "source": [
    "#Define the collection name\n",
    "collection_name = \"zoomcamp-HW2-Q5\"\n",
    "\n",
    "# Create the collection with specified vector parameters\n",
    "qd_client.create_collection(\n",
    "    collection_name=collection_name,\n",
    "    vectors_config=models.VectorParams(\n",
    "        size=EMBEDDING_DIMENSIONALITY,\n",
    "        distance=models.Distance.COSINE\n",
    "    )\n",
    ")"
   ]
  },
  {
   "cell_type": "code",
   "execution_count": 186,
   "id": "8ae65609",
   "metadata": {},
   "outputs": [],
   "source": [
    "points = []\n",
    "\n",
    "for i, doc in enumerate(documents):\n",
    "    text=doc['question'] + ' ' + doc['text']\n",
    "    vector=models.Document(text=text, model=model_handle)\n",
    "    point = models.PointStruct(\n",
    "        id=i,\n",
    "        vector=vector,\n",
    "        payload=doc\n",
    "    )\n",
    "    points.append(point)"
   ]
  },
  {
   "cell_type": "code",
   "execution_count": 197,
   "id": "7e63eb88",
   "metadata": {},
   "outputs": [
    {
     "data": {
      "application/vnd.jupyter.widget-view+json": {
       "model_id": "4cc442c43f154055ba817fefbb404625",
       "version_major": 2,
       "version_minor": 0
      },
      "text/plain": [
       "Fetching 5 files:   0%|          | 0/5 [00:00<?, ?it/s]"
      ]
     },
     "metadata": {},
     "output_type": "display_data"
    },
    {
     "data": {
      "application/vnd.jupyter.widget-view+json": {
       "model_id": "0fda3a3f20ff44b2bbd90572e6d00d82",
       "version_major": 2,
       "version_minor": 0
      },
      "text/plain": [
       "special_tokens_map.json:   0%|          | 0.00/125 [00:00<?, ?B/s]"
      ]
     },
     "metadata": {},
     "output_type": "display_data"
    },
    {
     "data": {
      "application/vnd.jupyter.widget-view+json": {
       "model_id": "6f1013f39de146ac858191d9a5da28f9",
       "version_major": 2,
       "version_minor": 0
      },
      "text/plain": [
       "model_optimized.onnx:   0%|          | 0.00/133M [00:00<?, ?B/s]"
      ]
     },
     "metadata": {},
     "output_type": "display_data"
    },
    {
     "data": {
      "application/vnd.jupyter.widget-view+json": {
       "model_id": "3b9fa48f399044938a1995220e0cfd12",
       "version_major": 2,
       "version_minor": 0
      },
      "text/plain": [
       "config.json:   0%|          | 0.00/701 [00:00<?, ?B/s]"
      ]
     },
     "metadata": {},
     "output_type": "display_data"
    },
    {
     "data": {
      "application/vnd.jupyter.widget-view+json": {
       "model_id": "dd33235579204f28b93be3e0a3b24ce2",
       "version_major": 2,
       "version_minor": 0
      },
      "text/plain": [
       "tokenizer_config.json:   0%|          | 0.00/366 [00:00<?, ?B/s]"
      ]
     },
     "metadata": {},
     "output_type": "display_data"
    },
    {
     "data": {
      "application/vnd.jupyter.widget-view+json": {
       "model_id": "2922184397f34ebcb9b87426b0be6ad3",
       "version_major": 2,
       "version_minor": 0
      },
      "text/plain": [
       "tokenizer.json: 0.00B [00:00, ?B/s]"
      ]
     },
     "metadata": {},
     "output_type": "display_data"
    },
    {
     "data": {
      "text/plain": [
       "UpdateResult(operation_id=0, status=<UpdateStatus.COMPLETED: 'completed'>)"
      ]
     },
     "execution_count": 197,
     "metadata": {},
     "output_type": "execute_result"
    }
   ],
   "source": [
    "qd_client.upsert(\n",
    "    collection_name=collection_name,\n",
    "    points=points\n",
    ")"
   ]
  },
  {
   "cell_type": "code",
   "execution_count": 202,
   "id": "03dc0b0f",
   "metadata": {},
   "outputs": [],
   "source": [
    "#perform search\n",
    "def vector_search(question):\n",
    "    print('Vector search is working...')\n",
    "    \n",
    "    query_points = qd_client.query_points(\n",
    "            collection_name=collection_name,\n",
    "            query=models.Document( \n",
    "                text=question,\n",
    "                model=model_handle \n",
    "            ),\n",
    "            limit=5,\n",
    "            with_payload=True \n",
    "        )\n",
    "    results = []\n",
    "\n",
    "    #for point in query_points.points:\n",
    "    #    results.append(point.payload)\n",
    "\n",
    "    return(query_points)"
   ]
  },
  {
   "cell_type": "code",
   "execution_count": 204,
   "id": "3a180731",
   "metadata": {},
   "outputs": [
    {
     "name": "stdout",
     "output_type": "stream",
     "text": [
      "Vector search is working...\n"
     ]
    }
   ],
   "source": [
    "points= vector_search('I just discovered the course. Can I join now?')"
   ]
  },
  {
   "cell_type": "code",
   "execution_count": 211,
   "id": "e58446d9",
   "metadata": {},
   "outputs": [
    {
     "data": {
      "text/plain": [
       "[ScoredPoint(id=14, version=0, score=0.8703172, payload={'text': 'Yes, you can. You won’t be able to submit some of the homeworks, but you can still take part in the course.\\nIn order to get a certificate, you need to submit 2 out of 3 course projects and review 3 peers’ Projects by the deadline. It means that if you join the course at the end of November and manage to work on two projects, you will still be eligible for a certificate.', 'section': 'General course-related questions', 'question': 'The course has already started. Can I still join it?', 'course': 'machine-learning-zoomcamp'}, vector=None, shard_key=None, order_value=None),\n",
       " ScoredPoint(id=6, version=0, score=0.86918855, payload={'text': 'Approximately 4 months, but may take more if you want to do some extra activities (an extra project, an article, etc)', 'section': 'General course-related questions', 'question': 'How long is the course?', 'course': 'machine-learning-zoomcamp'}, vector=None, shard_key=None, order_value=None),\n",
       " ScoredPoint(id=13, version=0, score=0.86833113, payload={'text': \"Here’s how you join a in Slack: https://slack.com/help/articles/205239967-Join-a-channel\\nClick “All channels” at the top of your left sidebar. If you don't see this option, click “More” to find it.\\nBrowse the list of public channels in your workspace, or use the search bar to search by channel name or description.\\nSelect a channel from the list to view it.\\nClick Join Channel.\\nDo we need to provide the GitHub link to only our code corresponding to the homework questions?\\nYes. You are required to provide the URL to your repo in order to receive a grade\", 'section': 'General course-related questions', 'question': 'I’m new to Slack and can’t find the course channel. Where is it?', 'course': 'machine-learning-zoomcamp'}, vector=None, shard_key=None, order_value=None),\n",
       " ScoredPoint(id=293, version=0, score=0.8576106, payload={'text': 'TODO', 'section': '10. Kubernetes and TensorFlow Serving', 'question': 'How to get started with Week 10?', 'course': 'machine-learning-zoomcamp'}, vector=None, shard_key=None, order_value=None),\n",
       " ScoredPoint(id=17, version=0, score=0.85715395, payload={'text': 'Welcome to the course! Go to the course page (http://mlzoomcamp.com/), scroll down and start going through the course materials. Then read everything in the cohort folder for your cohort’s year.\\nClick on the links and start watching the videos. Also watch office hours from previous cohorts. Go to DTC youtube channel and click on Playlists and search for {course yyyy}. ML Zoomcamp was first launched in 2021.\\nOr you can just use this link: http://mlzoomcamp.com/#syllabus', 'section': 'General course-related questions', 'question': 'I just joined. What should I do next? How can I access course materials?', 'course': 'machine-learning-zoomcamp'}, vector=None, shard_key=None, order_value=None)]"
      ]
     },
     "execution_count": 211,
     "metadata": {},
     "output_type": "execute_result"
    }
   ],
   "source": [
    "points.points"
   ]
  }
 ],
 "metadata": {
  "kernelspec": {
   "display_name": "llm-zoomcamp",
   "language": "python",
   "name": "python3"
  },
  "language_info": {
   "codemirror_mode": {
    "name": "ipython",
    "version": 3
   },
   "file_extension": ".py",
   "mimetype": "text/x-python",
   "name": "python",
   "nbconvert_exporter": "python",
   "pygments_lexer": "ipython3",
   "version": "3.10.13"
  }
 },
 "nbformat": 4,
 "nbformat_minor": 5
}
